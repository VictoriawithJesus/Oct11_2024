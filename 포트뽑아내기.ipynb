{
 "cells": [
  {
   "cell_type": "code",
   "execution_count": 6,
   "id": "5c1ae823-57e4-4fe3-8b72-7025cf88ce1d",
   "metadata": {},
   "outputs": [
    {
     "name": "stdout",
     "output_type": "stream",
     "text": [
      "        Type  Seq\\n(순번) Enable\\n(사용여부) Two-way\\n(양방향)  ID\\n(정책ID) Name\\n(정책명)  \\\n",
      "0     Normal        1.0              Y              N         2.0      정책번호#2   \n",
      "1        NaN        NaN            NaN            NaN         NaN         NaN   \n",
      "2        NaN        NaN            NaN            NaN         NaN         NaN   \n",
      "3        NaN        NaN            NaN            NaN         NaN         NaN   \n",
      "4        NaN        NaN            NaN            NaN         NaN         NaN   \n",
      "...      ...        ...            ...            ...         ...         ...   \n",
      "3346     NaN        NaN            NaN            NaN         NaN         NaN   \n",
      "3347     NaN        NaN            NaN            NaN         NaN         NaN   \n",
      "3348     NaN        NaN            NaN            NaN         NaN         NaN   \n",
      "3349     NaN        NaN            NaN            NaN         NaN         NaN   \n",
      "3350  Normal      119.0              Y              N        99.0     정책번호#97   \n",
      "\n",
      "     Action\\n(허용/차단) Group OBJ Name Application OBJ Name ap-Protocol  \\\n",
      "0               DENY            NaN                  ANY         NaN   \n",
      "1                NaN            NaN                  NaN         NaN   \n",
      "2                NaN            NaN                  NaN         NaN   \n",
      "3                NaN            NaN                  NaN         NaN   \n",
      "4                NaN            NaN                  NaN         NaN   \n",
      "...              ...            ...                  ...         ...   \n",
      "3346             NaN            NaN                  NaN         NaN   \n",
      "3347             NaN            NaN                  NaN         NaN   \n",
      "3348             NaN            NaN                  NaN         NaN   \n",
      "3349             NaN            NaN                  NaN         NaN   \n",
      "3350            DENY            NaN                  ANY         NaN   \n",
      "\n",
      "      Group OBJ Name.1 Service OBJ Name\\n(목적지포트명) Protocol  \\\n",
      "0     Ransomeware_Port                    UDP_138      UDP   \n",
      "1                  NaN                    UDP_137      UDP   \n",
      "2                  NaN                    TCP_445      TCP   \n",
      "3                  NaN                    TCP_139      TCP   \n",
      "4                 worm                     worm_5      UDP   \n",
      "...                ...                        ...      ...   \n",
      "3346               NaN                        NaN      NaN   \n",
      "3347               NaN                        NaN      NaN   \n",
      "3348               NaN                        NaN      NaN   \n",
      "3349               NaN                        NaN      NaN   \n",
      "3350               NaN                        ANY      NaN   \n",
      "\n",
      "     Service Port\\n(포트번호)  \n",
      "0                     138  \n",
      "1                     137  \n",
      "2                     445  \n",
      "3                     139  \n",
      "4                   10168  \n",
      "...                   ...  \n",
      "3346                  NaN  \n",
      "3347                  NaN  \n",
      "3348                  NaN  \n",
      "3349                  NaN  \n",
      "3350                  NaN  \n",
      "\n",
      "[3351 rows x 14 columns]\n"
     ]
    }
   ],
   "source": [
    "import pandas as pd\n",
    "\n",
    "# 엑셀 파일 경로\n",
    "file_path = r'D:\\2024\\시큐와우업무\\241010_방화벽작업\\241010_야근_재택근무\\방화벽\\10.10.2.7_메인방화벽.xlsx'\n",
    "\n",
    "# 엑셀 파일 읽기\n",
    "df = pd.read_excel(file_path)\n",
    "\n",
    "# 데이터 출력\n",
    "print(df)\n"
   ]
  },
  {
   "cell_type": "code",
   "execution_count": 8,
   "id": "3c298198-880c-4245-b1f2-1a77891cb171",
   "metadata": {},
   "outputs": [],
   "source": [
    "# 컬럼 명 추출\n",
    "column_names = df.columns.tolist()"
   ]
  },
  {
   "cell_type": "code",
   "execution_count": 9,
   "id": "6d17494e-4fc4-47bd-803f-d2e193112c4c",
   "metadata": {},
   "outputs": [
    {
     "name": "stdout",
     "output_type": "stream",
     "text": [
      "['Type', 'Seq\\n(순번)', 'Enable\\n(사용여부)', 'Two-way\\n(양방향)', 'ID\\n(정책ID)', 'Name\\n(정책명)', 'Action\\n(허용/차단)', 'Group OBJ Name', 'Application OBJ Name', 'ap-Protocol', 'Group OBJ Name.1', 'Service OBJ Name\\n(목적지포트명)', 'Protocol', 'Service Port\\n(포트번호)']\n"
     ]
    }
   ],
   "source": [
    "print(column_names)"
   ]
  },
  {
   "cell_type": "code",
   "execution_count": 11,
   "id": "9dc8fa91-6816-4461-ac19-ab43b58506e1",
   "metadata": {},
   "outputs": [
    {
     "ename": "NameError",
     "evalue": "name 'head' is not defined",
     "output_type": "error",
     "traceback": [
      "\u001b[1;31m---------------------------------------------------------------------------\u001b[0m",
      "\u001b[1;31mNameError\u001b[0m                                 Traceback (most recent call last)",
      "Cell \u001b[1;32mIn[11], line 1\u001b[0m\n\u001b[1;32m----> 1\u001b[0m df(head)\n",
      "\u001b[1;31mNameError\u001b[0m: name 'head' is not defined"
     ]
    }
   ],
   "source": [
    "d"
   ]
  },
  {
   "cell_type": "code",
   "execution_count": 13,
   "id": "a907835b-d939-4461-b8e1-12cd6c4385c8",
   "metadata": {},
   "outputs": [
    {
     "data": {
      "text/html": [
       "<div>\n",
       "<style scoped>\n",
       "    .dataframe tbody tr th:only-of-type {\n",
       "        vertical-align: middle;\n",
       "    }\n",
       "\n",
       "    .dataframe tbody tr th {\n",
       "        vertical-align: top;\n",
       "    }\n",
       "\n",
       "    .dataframe thead th {\n",
       "        text-align: right;\n",
       "    }\n",
       "</style>\n",
       "<table border=\"1\" class=\"dataframe\">\n",
       "  <thead>\n",
       "    <tr style=\"text-align: right;\">\n",
       "      <th></th>\n",
       "      <th>Type</th>\n",
       "      <th>Seq\\n(순번)</th>\n",
       "      <th>Enable\\n(사용여부)</th>\n",
       "      <th>Two-way\\n(양방향)</th>\n",
       "      <th>ID\\n(정책ID)</th>\n",
       "      <th>Name\\n(정책명)</th>\n",
       "      <th>Action\\n(허용/차단)</th>\n",
       "      <th>Group OBJ Name</th>\n",
       "      <th>Application OBJ Name</th>\n",
       "      <th>ap-Protocol</th>\n",
       "      <th>Group OBJ Name.1</th>\n",
       "      <th>Service OBJ Name\\n(목적지포트명)</th>\n",
       "      <th>Protocol</th>\n",
       "      <th>Service Port\\n(포트번호)</th>\n",
       "    </tr>\n",
       "  </thead>\n",
       "  <tbody>\n",
       "    <tr>\n",
       "      <th>0</th>\n",
       "      <td>Normal</td>\n",
       "      <td>1.0</td>\n",
       "      <td>Y</td>\n",
       "      <td>N</td>\n",
       "      <td>2.0</td>\n",
       "      <td>정책번호#2</td>\n",
       "      <td>DENY</td>\n",
       "      <td>NaN</td>\n",
       "      <td>ANY</td>\n",
       "      <td>NaN</td>\n",
       "      <td>Ransomeware_Port</td>\n",
       "      <td>UDP_138</td>\n",
       "      <td>UDP</td>\n",
       "      <td>138</td>\n",
       "    </tr>\n",
       "    <tr>\n",
       "      <th>1</th>\n",
       "      <td>NaN</td>\n",
       "      <td>NaN</td>\n",
       "      <td>NaN</td>\n",
       "      <td>NaN</td>\n",
       "      <td>NaN</td>\n",
       "      <td>NaN</td>\n",
       "      <td>NaN</td>\n",
       "      <td>NaN</td>\n",
       "      <td>NaN</td>\n",
       "      <td>NaN</td>\n",
       "      <td>NaN</td>\n",
       "      <td>UDP_137</td>\n",
       "      <td>UDP</td>\n",
       "      <td>137</td>\n",
       "    </tr>\n",
       "    <tr>\n",
       "      <th>2</th>\n",
       "      <td>NaN</td>\n",
       "      <td>NaN</td>\n",
       "      <td>NaN</td>\n",
       "      <td>NaN</td>\n",
       "      <td>NaN</td>\n",
       "      <td>NaN</td>\n",
       "      <td>NaN</td>\n",
       "      <td>NaN</td>\n",
       "      <td>NaN</td>\n",
       "      <td>NaN</td>\n",
       "      <td>NaN</td>\n",
       "      <td>TCP_445</td>\n",
       "      <td>TCP</td>\n",
       "      <td>445</td>\n",
       "    </tr>\n",
       "    <tr>\n",
       "      <th>3</th>\n",
       "      <td>NaN</td>\n",
       "      <td>NaN</td>\n",
       "      <td>NaN</td>\n",
       "      <td>NaN</td>\n",
       "      <td>NaN</td>\n",
       "      <td>NaN</td>\n",
       "      <td>NaN</td>\n",
       "      <td>NaN</td>\n",
       "      <td>NaN</td>\n",
       "      <td>NaN</td>\n",
       "      <td>NaN</td>\n",
       "      <td>TCP_139</td>\n",
       "      <td>TCP</td>\n",
       "      <td>139</td>\n",
       "    </tr>\n",
       "    <tr>\n",
       "      <th>4</th>\n",
       "      <td>NaN</td>\n",
       "      <td>NaN</td>\n",
       "      <td>NaN</td>\n",
       "      <td>NaN</td>\n",
       "      <td>NaN</td>\n",
       "      <td>NaN</td>\n",
       "      <td>NaN</td>\n",
       "      <td>NaN</td>\n",
       "      <td>NaN</td>\n",
       "      <td>NaN</td>\n",
       "      <td>worm</td>\n",
       "      <td>worm_5</td>\n",
       "      <td>UDP</td>\n",
       "      <td>10168</td>\n",
       "    </tr>\n",
       "  </tbody>\n",
       "</table>\n",
       "</div>"
      ],
      "text/plain": [
       "     Type  Seq\\n(순번) Enable\\n(사용여부) Two-way\\n(양방향)  ID\\n(정책ID) Name\\n(정책명)  \\\n",
       "0  Normal        1.0              Y              N         2.0      정책번호#2   \n",
       "1     NaN        NaN            NaN            NaN         NaN         NaN   \n",
       "2     NaN        NaN            NaN            NaN         NaN         NaN   \n",
       "3     NaN        NaN            NaN            NaN         NaN         NaN   \n",
       "4     NaN        NaN            NaN            NaN         NaN         NaN   \n",
       "\n",
       "  Action\\n(허용/차단) Group OBJ Name Application OBJ Name ap-Protocol  \\\n",
       "0            DENY            NaN                  ANY         NaN   \n",
       "1             NaN            NaN                  NaN         NaN   \n",
       "2             NaN            NaN                  NaN         NaN   \n",
       "3             NaN            NaN                  NaN         NaN   \n",
       "4             NaN            NaN                  NaN         NaN   \n",
       "\n",
       "   Group OBJ Name.1 Service OBJ Name\\n(목적지포트명) Protocol Service Port\\n(포트번호)  \n",
       "0  Ransomeware_Port                    UDP_138      UDP                  138  \n",
       "1               NaN                    UDP_137      UDP                  137  \n",
       "2               NaN                    TCP_445      TCP                  445  \n",
       "3               NaN                    TCP_139      TCP                  139  \n",
       "4              worm                     worm_5      UDP                10168  "
      ]
     },
     "execution_count": 13,
     "metadata": {},
     "output_type": "execute_result"
    }
   ],
   "source": [
    "df.head()"
   ]
  },
  {
   "cell_type": "code",
   "execution_count": 14,
   "id": "22d7875d-d3b5-44d3-a324-f22d373dc2dd",
   "metadata": {},
   "outputs": [
    {
     "ename": "TypeError",
     "evalue": "read_excel() got an unexpected keyword argument 'merge_cells'",
     "output_type": "error",
     "traceback": [
      "\u001b[1;31m---------------------------------------------------------------------------\u001b[0m",
      "\u001b[1;31mTypeError\u001b[0m                                 Traceback (most recent call last)",
      "Cell \u001b[1;32mIn[14], line 1\u001b[0m\n\u001b[1;32m----> 1\u001b[0m df \u001b[38;5;241m=\u001b[39m pd\u001b[38;5;241m.\u001b[39mread_excel(file_path, merge_cells\u001b[38;5;241m=\u001b[39m\u001b[38;5;28;01mTrue\u001b[39;00m)\n",
      "\u001b[1;31mTypeError\u001b[0m: read_excel() got an unexpected keyword argument 'merge_cells'"
     ]
    }
   ],
   "source": [
    "df = pd.read_excel(file_path, merge_cells=True)\n"
   ]
  },
  {
   "cell_type": "code",
   "execution_count": 15,
   "id": "2f6df189-5f13-47d7-8fdd-f6884f9dd09f",
   "metadata": {},
   "outputs": [
    {
     "name": "stderr",
     "output_type": "stream",
     "text": [
      "C:\\Users\\pig30n77\\AppData\\Local\\Temp\\ipykernel_26684\\3970806690.py:1: FutureWarning: DataFrame.fillna with 'method' is deprecated and will raise in a future version. Use obj.ffill() or obj.bfill() instead.\n",
      "  df.fillna(method='ffill', inplace=True)\n"
     ]
    }
   ],
   "source": [
    "df.fillna(method='ffill', inplace=True)"
   ]
  },
  {
   "cell_type": "code",
   "execution_count": 21,
   "id": "3a23f3d5-49b6-42f5-a423-bada6aad91bf",
   "metadata": {},
   "outputs": [
    {
     "data": {
      "text/html": [
       "<div>\n",
       "<style scoped>\n",
       "    .dataframe tbody tr th:only-of-type {\n",
       "        vertical-align: middle;\n",
       "    }\n",
       "\n",
       "    .dataframe tbody tr th {\n",
       "        vertical-align: top;\n",
       "    }\n",
       "\n",
       "    .dataframe thead th {\n",
       "        text-align: right;\n",
       "    }\n",
       "</style>\n",
       "<table border=\"1\" class=\"dataframe\">\n",
       "  <thead>\n",
       "    <tr style=\"text-align: right;\">\n",
       "      <th></th>\n",
       "      <th>Type</th>\n",
       "      <th>Seq\\n(순번)</th>\n",
       "      <th>Enable\\n(사용여부)</th>\n",
       "      <th>Two-way\\n(양방향)</th>\n",
       "      <th>ID\\n(정책ID)</th>\n",
       "      <th>Name\\n(정책명)</th>\n",
       "      <th>Action\\n(허용/차단)</th>\n",
       "      <th>Group OBJ Name</th>\n",
       "      <th>Application OBJ Name</th>\n",
       "      <th>ap-Protocol</th>\n",
       "      <th>Group OBJ Name.1</th>\n",
       "      <th>Service OBJ Name\\n(목적지포트명)</th>\n",
       "      <th>Protocol</th>\n",
       "      <th>Service Port\\n(포트번호)</th>\n",
       "    </tr>\n",
       "  </thead>\n",
       "  <tbody>\n",
       "    <tr>\n",
       "      <th>0</th>\n",
       "      <td>Normal</td>\n",
       "      <td>1.0</td>\n",
       "      <td>Y</td>\n",
       "      <td>N</td>\n",
       "      <td>2.0</td>\n",
       "      <td>정책번호#2</td>\n",
       "      <td>DENY</td>\n",
       "      <td>NaN</td>\n",
       "      <td>ANY</td>\n",
       "      <td>NaN</td>\n",
       "      <td>Ransomeware_Port</td>\n",
       "      <td>UDP_138</td>\n",
       "      <td>UDP</td>\n",
       "      <td>138</td>\n",
       "    </tr>\n",
       "    <tr>\n",
       "      <th>1</th>\n",
       "      <td>Normal</td>\n",
       "      <td>1.0</td>\n",
       "      <td>Y</td>\n",
       "      <td>N</td>\n",
       "      <td>2.0</td>\n",
       "      <td>정책번호#2</td>\n",
       "      <td>DENY</td>\n",
       "      <td>NaN</td>\n",
       "      <td>ANY</td>\n",
       "      <td>NaN</td>\n",
       "      <td>Ransomeware_Port</td>\n",
       "      <td>UDP_137</td>\n",
       "      <td>UDP</td>\n",
       "      <td>137</td>\n",
       "    </tr>\n",
       "    <tr>\n",
       "      <th>2</th>\n",
       "      <td>Normal</td>\n",
       "      <td>1.0</td>\n",
       "      <td>Y</td>\n",
       "      <td>N</td>\n",
       "      <td>2.0</td>\n",
       "      <td>정책번호#2</td>\n",
       "      <td>DENY</td>\n",
       "      <td>NaN</td>\n",
       "      <td>ANY</td>\n",
       "      <td>NaN</td>\n",
       "      <td>Ransomeware_Port</td>\n",
       "      <td>TCP_445</td>\n",
       "      <td>TCP</td>\n",
       "      <td>445</td>\n",
       "    </tr>\n",
       "    <tr>\n",
       "      <th>3</th>\n",
       "      <td>Normal</td>\n",
       "      <td>1.0</td>\n",
       "      <td>Y</td>\n",
       "      <td>N</td>\n",
       "      <td>2.0</td>\n",
       "      <td>정책번호#2</td>\n",
       "      <td>DENY</td>\n",
       "      <td>NaN</td>\n",
       "      <td>ANY</td>\n",
       "      <td>NaN</td>\n",
       "      <td>Ransomeware_Port</td>\n",
       "      <td>TCP_139</td>\n",
       "      <td>TCP</td>\n",
       "      <td>139</td>\n",
       "    </tr>\n",
       "    <tr>\n",
       "      <th>4</th>\n",
       "      <td>Normal</td>\n",
       "      <td>1.0</td>\n",
       "      <td>Y</td>\n",
       "      <td>N</td>\n",
       "      <td>2.0</td>\n",
       "      <td>정책번호#2</td>\n",
       "      <td>DENY</td>\n",
       "      <td>NaN</td>\n",
       "      <td>ANY</td>\n",
       "      <td>NaN</td>\n",
       "      <td>worm</td>\n",
       "      <td>worm_5</td>\n",
       "      <td>UDP</td>\n",
       "      <td>10168</td>\n",
       "    </tr>\n",
       "  </tbody>\n",
       "</table>\n",
       "</div>"
      ],
      "text/plain": [
       "     Type  Seq\\n(순번) Enable\\n(사용여부) Two-way\\n(양방향)  ID\\n(정책ID) Name\\n(정책명)  \\\n",
       "0  Normal        1.0              Y              N         2.0      정책번호#2   \n",
       "1  Normal        1.0              Y              N         2.0      정책번호#2   \n",
       "2  Normal        1.0              Y              N         2.0      정책번호#2   \n",
       "3  Normal        1.0              Y              N         2.0      정책번호#2   \n",
       "4  Normal        1.0              Y              N         2.0      정책번호#2   \n",
       "\n",
       "  Action\\n(허용/차단) Group OBJ Name Application OBJ Name ap-Protocol  \\\n",
       "0            DENY            NaN                  ANY         NaN   \n",
       "1            DENY            NaN                  ANY         NaN   \n",
       "2            DENY            NaN                  ANY         NaN   \n",
       "3            DENY            NaN                  ANY         NaN   \n",
       "4            DENY            NaN                  ANY         NaN   \n",
       "\n",
       "   Group OBJ Name.1 Service OBJ Name\\n(목적지포트명) Protocol Service Port\\n(포트번호)  \n",
       "0  Ransomeware_Port                    UDP_138      UDP                  138  \n",
       "1  Ransomeware_Port                    UDP_137      UDP                  137  \n",
       "2  Ransomeware_Port                    TCP_445      TCP                  445  \n",
       "3  Ransomeware_Port                    TCP_139      TCP                  139  \n",
       "4              worm                     worm_5      UDP                10168  "
      ]
     },
     "execution_count": 21,
     "metadata": {},
     "output_type": "execute_result"
    }
   ],
   "source": [
    "df.head()"
   ]
  },
  {
   "cell_type": "code",
   "execution_count": 22,
   "id": "b014e713-e472-4009-ad70-980975e634bb",
   "metadata": {},
   "outputs": [],
   "source": [
    "result = df[(df.apply(lambda row: any(port in str(row) for port in ['137', '138', '139']) and 'Ransomeware' in str(row).lower(), axis=1))]\n"
   ]
  },
  {
   "cell_type": "code",
   "execution_count": 23,
   "id": "631daabd-cfc4-443b-896f-6da5d74405c7",
   "metadata": {},
   "outputs": [
    {
     "name": "stdout",
     "output_type": "stream",
     "text": [
      "Empty DataFrame\n",
      "Columns: [Type, Seq\n",
      "(순번), Enable\n",
      "(사용여부), Two-way\n",
      "(양방향), ID\n",
      "(정책ID), Name\n",
      "(정책명), Action\n",
      "(허용/차단), Group OBJ Name, Application OBJ Name, ap-Protocol, Group OBJ Name.1, Service OBJ Name\n",
      "(목적지포트명), Protocol, Service Port\n",
      "(포트번호)]\n",
      "Index: []\n"
     ]
    }
   ],
   "source": [
    "print(result)"
   ]
  },
  {
   "cell_type": "code",
   "execution_count": 24,
   "id": "1e78dcc0-d874-4164-8f82-9652eb9be7b2",
   "metadata": {},
   "outputs": [],
   "source": [
    "result = df[df.apply(lambda row: any(num in str(row) for num in ['137', '138']) and 'ransome' in str(row).lower(), axis=1)]\n",
    "\n"
   ]
  },
  {
   "cell_type": "code",
   "execution_count": 25,
   "id": "46363599-07d6-4b35-85cc-8b73ba9fb623",
   "metadata": {},
   "outputs": [
    {
     "name": "stdout",
     "output_type": "stream",
     "text": [
      "     Type  Seq\\n(순번) Enable\\n(사용여부) Two-way\\n(양방향)  ID\\n(정책ID) Name\\n(정책명)  \\\n",
      "0  Normal        1.0              Y              N         2.0      정책번호#2   \n",
      "1  Normal        1.0              Y              N         2.0      정책번호#2   \n",
      "\n",
      "  Action\\n(허용/차단) Group OBJ Name Application OBJ Name ap-Protocol  \\\n",
      "0            DENY            NaN                  ANY         NaN   \n",
      "1            DENY            NaN                  ANY         NaN   \n",
      "\n",
      "   Group OBJ Name.1 Service OBJ Name\\n(목적지포트명) Protocol Service Port\\n(포트번호)  \n",
      "0  Ransomeware_Port                    UDP_138      UDP                  138  \n",
      "1  Ransomeware_Port                    UDP_137      UDP                  137  \n"
     ]
    }
   ],
   "source": [
    "print(result)"
   ]
  },
  {
   "cell_type": "code",
   "execution_count": 26,
   "id": "75ffdf5e-c2aa-4ce1-a9f7-d9f75dbf8127",
   "metadata": {},
   "outputs": [],
   "source": [
    "result1 = df[df.apply(lambda row: any(num in str(row) for num in ['137', '138']) and 'ransome' in str(row).lower(), axis=1)]"
   ]
  },
  {
   "cell_type": "markdown",
   "id": "4cbd921f-d320-44cc-abe1-798b442ef129",
   "metadata": {},
   "source": [
    "취약한 포트 뽑아내기"
   ]
  },
  {
   "cell_type": "code",
   "execution_count": 27,
   "id": "036abdcb-3206-4434-be48-d0719618ed1b",
   "metadata": {},
   "outputs": [
    {
     "name": "stderr",
     "output_type": "stream",
     "text": [
      "\n",
      "KeyboardInterrupt\n",
      "\n"
     ]
    }
   ],
   "source": [
    "#파일공유\n",
    "netbios = df[df.apply(lambda row: any(num in str(row) for num in ['135', '137','138','139']) and 'net' in str(row).lower(), axis=1)]\n",
    "smb = df[df.apply(lambda row: any(num in str(row) for num in ['445']) and 'smb' in str(row).lower(), axis=1)] \n",
    "nfs = df[df.apply(lambda row: any(num in str(row) for num in ['2048', '2049']) and 'nfs' in str(row).lower(), axis=1)]\n",
    "\n",
    "#파일 전송\n",
    "ftp = df[df.apply(lambda row: any(num in str(row) for num in ['21']) and 'ftp' in str(row).lower(), axis=1)]\n",
    "tftp = df[df.apply(lambda row: any(num in str(row) for num in ['69']) and 'tftp' in str(row).lower(), axis=1)] \n",
    "sftp = df[df.apply(lambda row: any(num in str(row) for num in ['115']) and 'sftp' in str(row).lower(), axis=1)]\n",
    "\n",
    "#메일\n",
    "smtp = df[df.apply(lambda row: any(num in str(row) for num in ['25']) and 'mail' in str(row).lower(), axis=1)]\n",
    "\n",
    "#원격관리\n",
    "ssh = df[df.apply(lambda row: any(num in str(row) for num in ['22', '23']) and 'ssh' in str(row).lower(), axis=1)]\n",
    "telnet = df[df.apply(lambda row: any(num in str(row) for num in ['22', '23']) and 'telnet' in str(row).lower(), axis=1)]\n",
    "\n",
    "rlogin = df[df.apply(lambda row: any(num in str(row) for num in ['513']) and 'login' in str(row).lower(), axis=1)]\n",
    "\n",
    "rsh = df[df.apply(lambda row: any(num in str(row) for num in ['514']) and 'rsh' in str(row).lower(), axis=1)]\n",
    "rcp = df[df.apply(lambda row: any(num in str(row) for num in ['514']) and 'rcp' in str(row).lower(), axis=1)]\n",
    "\n",
    "rdp = df[df.apply(lambda row: any(num in str(row) for num in ['3389']) and 'rdp' in str(row).lower(), axis=1)] \n",
    "\n",
    "radmin = df[df.apply(lambda row: any(num in str(row) for num in ['4899']) and 'admin' in str(row).lower(), axis=1)]\n",
    "\n",
    "vnc = df[df.apply(lambda row: any(num in str(row) for num in ['5800', '5900']) and 'vnc' in str(row).lower(), axis=1)]\n",
    "\n",
    "teamviewer = df[df.apply(lambda row: any(num in str(row) for num in ['5938']) and 'view' in str(row).lower(), axis=1)]\n",
    "\n",
    "gotomypc = df[df.apply(lambda row: any(num in str(row) for num in ['8200']) and 'pc' in str(row).lower(), axis=1)]\n",
    "\n",
    "snmp = df[df.apply(lambda row: any(num in str(row) for num in ['161','162']) and 'snmp' in str(row).lower(), axis=1)]\n",
    "\n",
    "etc1 = df[df.apply(lambda row: any(num in str(row) for num in ['7','9','11','13','19','79','512','517']) and 'echo' in str(row).lower(), axis=1)]\n",
    "etc2 = df[df.apply(lambda row: any(num in str(row) for num in ['7','9','11','13','19','79','512','517']) and 'discard' in str(row).lower(), axis=1)]\n",
    "etc3 = df[df.apply(lambda row: any(num in str(row) for num in ['7','9','11','13','19','79','512','517']) and 'systat' in str(row).lower(), axis=1)]\n",
    "etc4 = df[df.apply(lambda row: any(num in str(row) for num in ['7','9','11','13','19','79','512','517']) and 'daytime' in str(row).lower(), axis=1)]\n",
    "etc5 = df[df.apply(lambda row: any(num in str(row) for num in ['7','9','11','13','19','79','512','517']) and 'chargen' in str(row).lower(), axis=1)]\n",
    "etc6 = df[df.apply(lambda row: any(num in str(row) for num in ['7','9','11','13','19','79','512','517']) and 'finger' in str(row).lower(), axis=1)]\n",
    "etc7 = df[df.apply(lambda row: any(num in str(row) for num in ['7','9','11','13','19','79','512','517']) and 'exec' in str(row).lower(), axis=1)]\n",
    "etc8 = df[df.apply(lambda row: any(num in str(row) for num in ['7','9','11','13','19','79','512','517']) and 'talk' in str(row).lower(), axis=1)]"
   ]
  },
  {
   "cell_type": "code",
   "execution_count": 28,
   "id": "a4a90681-1491-420d-bab2-b20da8d98c61",
   "metadata": {},
   "outputs": [
    {
     "name": "stdout",
     "output_type": "stream",
     "text": [
      "Empty DataFrame\n",
      "Columns: [Type, Seq\n",
      "(순번), Enable\n",
      "(사용여부), Two-way\n",
      "(양방향), ID\n",
      "(정책ID), Name\n",
      "(정책명), Action\n",
      "(허용/차단), Group OBJ Name, Application OBJ Name, ap-Protocol, Group OBJ Name.1, Service OBJ Name\n",
      "(목적지포트명), Protocol, Service Port\n",
      "(포트번호)]\n",
      "Index: []\n"
     ]
    }
   ],
   "source": [
    "print(netbios)"
   ]
  },
  {
   "cell_type": "code",
   "execution_count": 29,
   "id": "a5edb37d-54ec-4c3f-8433-8d916766ddc5",
   "metadata": {},
   "outputs": [
    {
     "name": "stdout",
     "output_type": "stream",
     "text": [
      "Empty DataFrame\n",
      "Columns: [Type, Seq\n",
      "(순번), Enable\n",
      "(사용여부), Two-way\n",
      "(양방향), ID\n",
      "(정책ID), Name\n",
      "(정책명), Action\n",
      "(허용/차단), Group OBJ Name, Application OBJ Name, ap-Protocol, Group OBJ Name.1, Service OBJ Name\n",
      "(목적지포트명), Protocol, Service Port\n",
      "(포트번호)]\n",
      "Index: []\n"
     ]
    }
   ],
   "source": [
    "print(smb)"
   ]
  },
  {
   "cell_type": "code",
   "execution_count": 30,
   "id": "b59e2fb2-1475-4245-842e-1f0b137f4358",
   "metadata": {},
   "outputs": [
    {
     "name": "stdout",
     "output_type": "stream",
     "text": [
      "        Type  Seq\\n(순번) Enable\\n(사용여부) Two-way\\n(양방향)  ID\\n(정책ID)  \\\n",
      "50    Normal       14.0              Y              Y       140.0   \n",
      "1984  Normal      110.0              Y              Y       147.0   \n",
      "\n",
      "          Name\\n(정책명) Action\\n(허용/차단) Group OBJ Name Application OBJ Name  \\\n",
      "50    auto_ruleId_140           ALLOW            NaN                  ANY   \n",
      "1984  auto_ruleId_147           ALLOW            NaN                  ANY   \n",
      "\n",
      "     ap-Protocol Group OBJ Name.1 Service OBJ Name\\n(목적지포트명) Protocol  \\\n",
      "50           NaN             worm                   NFSD-TCP      TCP   \n",
      "1984         NaN            Ibond                   NFSD-TCP      TCP   \n",
      "\n",
      "     Service Port\\n(포트번호)  \n",
      "50                   2049  \n",
      "1984                 2049  \n"
     ]
    }
   ],
   "source": [
    "print(nfs)"
   ]
  },
  {
   "cell_type": "code",
   "execution_count": 31,
   "id": "284872e3-d6b8-4855-af97-952cefddc2fc",
   "metadata": {},
   "outputs": [
    {
     "name": "stdout",
     "output_type": "stream",
     "text": [
      "        Type  Seq\\n(순번) Enable\\n(사용여부) Two-way\\n(양방향)  ID\\n(정책ID)  \\\n",
      "1631  Normal       61.0              Y              N       111.0   \n",
      "1642  Normal       64.0              Y              N        52.0   \n",
      "1849  Normal       91.0              Y              N        76.0   \n",
      "1850  Normal       91.0              Y              N        76.0   \n",
      "1851  Normal       91.0              Y              N        76.0   \n",
      "\n",
      "          Name\\n(정책명) Action\\n(허용/차단) Group OBJ Name Application OBJ Name  \\\n",
      "1631  auto_ruleId_111           ALLOW            NaN                  ANY   \n",
      "1642          정책번호#50           ALLOW            NaN                  ANY   \n",
      "1849          정책번호#74           ALLOW            NaN                  ANY   \n",
      "1850          정책번호#74           ALLOW            NaN                  ANY   \n",
      "1851          정책번호#74           ALLOW            NaN                  ANY   \n",
      "\n",
      "     ap-Protocol Group OBJ Name.1 Service OBJ Name\\n(목적지포트명) Protocol  \\\n",
      "1631         NaN            BASIC                        FTP      TCP   \n",
      "1642         NaN        나라장터_PORT                        FTP      TCP   \n",
      "1849         NaN            Ibond                        FTP      TCP   \n",
      "1850         NaN            Ibond                        FTP      TCP   \n",
      "1851         NaN            Ibond                        FTP      TCP   \n",
      "\n",
      "     Service Port\\n(포트번호)  \n",
      "1631                   21  \n",
      "1642                   21  \n",
      "1849                   21  \n",
      "1850                   21  \n",
      "1851                   21  \n"
     ]
    }
   ],
   "source": [
    "print(ftp)"
   ]
  },
  {
   "cell_type": "code",
   "execution_count": 32,
   "id": "b0fbd8e1-83a3-4fb4-81a7-01f234998918",
   "metadata": {},
   "outputs": [
    {
     "name": "stdout",
     "output_type": "stream",
     "text": [
      "Empty DataFrame\n",
      "Columns: [Type, Seq\n",
      "(순번), Enable\n",
      "(사용여부), Two-way\n",
      "(양방향), ID\n",
      "(정책ID), Name\n",
      "(정책명), Action\n",
      "(허용/차단), Group OBJ Name, Application OBJ Name, ap-Protocol, Group OBJ Name.1, Service OBJ Name\n",
      "(목적지포트명), Protocol, Service Port\n",
      "(포트번호)]\n",
      "Index: []\n"
     ]
    }
   ],
   "source": [
    "print(tftp)"
   ]
  },
  {
   "cell_type": "code",
   "execution_count": 33,
   "id": "21ce87b9-4704-4eb9-a234-7217a0a4a8ae",
   "metadata": {},
   "outputs": [
    {
     "name": "stdout",
     "output_type": "stream",
     "text": [
      "Empty DataFrame\n",
      "Columns: [Type, Seq\n",
      "(순번), Enable\n",
      "(사용여부), Two-way\n",
      "(양방향), ID\n",
      "(정책ID), Name\n",
      "(정책명), Action\n",
      "(허용/차단), Group OBJ Name, Application OBJ Name, ap-Protocol, Group OBJ Name.1, Service OBJ Name\n",
      "(목적지포트명), Protocol, Service Port\n",
      "(포트번호)]\n",
      "Index: []\n"
     ]
    }
   ],
   "source": [
    "print(sftp)"
   ]
  },
  {
   "cell_type": "code",
   "execution_count": 34,
   "id": "3970a40e-2284-4e50-a7bc-5656cd7410f8",
   "metadata": {},
   "outputs": [
    {
     "name": "stdout",
     "output_type": "stream",
     "text": [
      "        Type  Seq\\n(순번) Enable\\n(사용여부) Two-way\\n(양방향)  ID\\n(정책ID) Name\\n(정책명)  \\\n",
      "2257  Normal      117.0              N              N        98.0     정책번호#96   \n",
      "2259  Normal      117.0              N              N        98.0     정책번호#96   \n",
      "2509  Normal      117.0              N              N        98.0     정책번호#96   \n",
      "2510  Normal      117.0              N              N        98.0     정책번호#96   \n",
      "2523  Normal      117.0              N              N        98.0     정책번호#96   \n",
      "2528  Normal      117.0              N              N        98.0     정책번호#96   \n",
      "2529  Normal      117.0              N              N        98.0     정책번호#96   \n",
      "2530  Normal      117.0              N              N        98.0     정책번호#96   \n",
      "2531  Normal      117.0              N              N        98.0     정책번호#96   \n",
      "2532  Normal      117.0              N              N        98.0     정책번호#96   \n",
      "2540  Normal      117.0              N              N        98.0     정책번호#96   \n",
      "2546  Normal      117.0              N              N        98.0     정책번호#96   \n",
      "2547  Normal      117.0              N              N        98.0     정책번호#96   \n",
      "2548  Normal      117.0              N              N        98.0     정책번호#96   \n",
      "2549  Normal      117.0              N              N        98.0     정책번호#96   \n",
      "2550  Normal      117.0              N              N        98.0     정책번호#96   \n",
      "2579  Normal      117.0              N              N        98.0     정책번호#96   \n",
      "2580  Normal      117.0              N              N        98.0     정책번호#96   \n",
      "2581  Normal      117.0              N              N        98.0     정책번호#96   \n",
      "2582  Normal      117.0              N              N        98.0     정책번호#96   \n",
      "2583  Normal      117.0              N              N        98.0     정책번호#96   \n",
      "2725  Normal      117.0              N              N        98.0     정책번호#96   \n",
      "3252  Normal      117.0              N              N        98.0     정책번호#96   \n",
      "3253  Normal      117.0              N              N        98.0     정책번호#96   \n",
      "3254  Normal      117.0              N              N        98.0     정책번호#96   \n",
      "3255  Normal      117.0              N              N        98.0     정책번호#96   \n",
      "\n",
      "     Action\\n(허용/차단)         Group OBJ Name  \\\n",
      "2257            DENY  KSCFC-DENY-APP-ADMIN2   \n",
      "2259            DENY  KSCFC-DENY-APP-ADMIN2   \n",
      "2509            DENY  KSCFC-DENY-APP-ADMIN2   \n",
      "2510            DENY  KSCFC-DENY-APP-ADMIN2   \n",
      "2523            DENY  KSCFC-DENY-APP-ADMIN2   \n",
      "2528            DENY  KSCFC-DENY-APP-ADMIN2   \n",
      "2529            DENY  KSCFC-DENY-APP-ADMIN2   \n",
      "2530            DENY  KSCFC-DENY-APP-ADMIN2   \n",
      "2531            DENY  KSCFC-DENY-APP-ADMIN2   \n",
      "2532            DENY  KSCFC-DENY-APP-ADMIN2   \n",
      "2540            DENY  KSCFC-DENY-APP-ADMIN2   \n",
      "2546            DENY  KSCFC-DENY-APP-ADMIN2   \n",
      "2547            DENY  KSCFC-DENY-APP-ADMIN2   \n",
      "2548            DENY  KSCFC-DENY-APP-ADMIN2   \n",
      "2549            DENY  KSCFC-DENY-APP-ADMIN2   \n",
      "2550            DENY  KSCFC-DENY-APP-ADMIN2   \n",
      "2579            DENY  KSCFC-DENY-APP-ADMIN2   \n",
      "2580            DENY  KSCFC-DENY-APP-ADMIN2   \n",
      "2581            DENY  KSCFC-DENY-APP-ADMIN2   \n",
      "2582            DENY  KSCFC-DENY-APP-ADMIN2   \n",
      "2583            DENY  KSCFC-DENY-APP-ADMIN2   \n",
      "2725            DENY  KSCFC-DENY-APP-ADMIN2   \n",
      "3252            DENY  KSCFC-DENY-APP-ADMIN2   \n",
      "3253            DENY  KSCFC-DENY-APP-ADMIN2   \n",
      "3254            DENY  KSCFC-DENY-APP-ADMIN2   \n",
      "3255            DENY  KSCFC-DENY-APP-ADMIN2   \n",
      "\n",
      "                        Application OBJ Name     ap-Protocol Group OBJ Name.1  \\\n",
      "2257               zoho-mail-message-posting         TCP 443            Ibond   \n",
      "2259              zoho-mail-message-browsing         TCP 443            Ibond   \n",
      "2509                mail.com-message-posting         TCP 443            Ibond   \n",
      "2510               mail.com-message-browsing         TCP 443            Ibond   \n",
      "2523                       korea.com-webmail          TCP 80            Ibond   \n",
      "2528                  aim-mail-file-download         TCP 443            Ibond   \n",
      "2529                          sohu-mail-base  TCP 443/UDP 53            Ibond   \n",
      "2530               sohu-mail-message-posting         TCP 443            Ibond   \n",
      "2531                   sohu-mail-file-upload         TCP 443            Ibond   \n",
      "2532                 sohu-mail-file-download         TCP 443            Ibond   \n",
      "2540                     single-webmail-base          TCP 80            Ibond   \n",
      "2546                         RunboxMail-base         TCP 443            Ibond   \n",
      "2547              RunboxMail-message-posting         TCP 443            Ibond   \n",
      "2548             RunboxMail-message-browsing         TCP 443            Ibond   \n",
      "2549                  RunboxMail-file-upload         TCP 443            Ibond   \n",
      "2550                RunboxMail-file-download         TCP 443            Ibond   \n",
      "2579              contactoffice_webmail-base         TCP 443            Ibond   \n",
      "2580   contactoffice_webmail-message-posting         TCP 443            Ibond   \n",
      "2581  contactoffice_webmail-message-browsing         TCP 443            Ibond   \n",
      "2582       contactoffice_webmail-file-upload         TCP 443            Ibond   \n",
      "2583     contactoffice_webmail-file-download         TCP 443            Ibond   \n",
      "2725               kakao-webmail-file-upload         TCP 443            Ibond   \n",
      "3252                         rediffmail-base      TCP 80,443            Ibond   \n",
      "3253              rediffmail-message-posting         TCP 443            Ibond   \n",
      "3254             rediffmail-message-browsing         TCP 443            Ibond   \n",
      "3255                  rediffmail-file-upload         TCP 443            Ibond   \n",
      "\n",
      "     Service OBJ Name\\n(목적지포트명) Protocol Service Port\\n(포트번호)  \n",
      "2257                        ANY      TCP                   80  \n",
      "2259                        ANY      TCP                   80  \n",
      "2509                        ANY      TCP                   80  \n",
      "2510                        ANY      TCP                   80  \n",
      "2523                        ANY      TCP                   80  \n",
      "2528                        ANY      TCP                   80  \n",
      "2529                        ANY      TCP                   80  \n",
      "2530                        ANY      TCP                   80  \n",
      "2531                        ANY      TCP                   80  \n",
      "2532                        ANY      TCP                   80  \n",
      "2540                        ANY      TCP                   80  \n",
      "2546                        ANY      TCP                   80  \n",
      "2547                        ANY      TCP                   80  \n",
      "2548                        ANY      TCP                   80  \n",
      "2549                        ANY      TCP                   80  \n",
      "2550                        ANY      TCP                   80  \n",
      "2579                        ANY      TCP                   80  \n",
      "2580                        ANY      TCP                   80  \n",
      "2581                        ANY      TCP                   80  \n",
      "2582                        ANY      TCP                   80  \n",
      "2583                        ANY      TCP                   80  \n",
      "2725                        ANY      TCP                   80  \n",
      "3252                        ANY      TCP                   80  \n",
      "3253                        ANY      TCP                   80  \n",
      "3254                        ANY      TCP                   80  \n",
      "3255                        ANY      TCP                   80  \n"
     ]
    }
   ],
   "source": [
    "print(smtp)"
   ]
  },
  {
   "cell_type": "code",
   "execution_count": 35,
   "id": "bc26dd49-f792-404f-93eb-3b5b83c85031",
   "metadata": {},
   "outputs": [
    {
     "name": "stdout",
     "output_type": "stream",
     "text": [
      "        Type  Seq\\n(순번) Enable\\n(사용여부) Two-way\\n(양방향)  ID\\n(정책ID)  \\\n",
      "52    Normal       14.0              Y              Y       140.0   \n",
      "885   Normal       28.0              Y              Y        18.0   \n",
      "893   Normal       29.0              Y              Y        19.0   \n",
      "1561  Normal       50.0              Y              N        40.0   \n",
      "1632  Normal       61.0              Y              N       111.0   \n",
      "1694  Normal       75.0              Y              N       127.0   \n",
      "1695  Normal       75.0              Y              N       127.0   \n",
      "1696  Normal       75.0              Y              N       127.0   \n",
      "1697  Normal       76.0              Y              N        60.0   \n",
      "1698  Normal       76.0              Y              N        60.0   \n",
      "1699  Normal       76.0              Y              N        60.0   \n",
      "1700  Normal       76.0              Y              N        60.0   \n",
      "1986  Normal      110.0              Y              Y       147.0   \n",
      "1991  Normal      111.0              Y              N        93.0   \n",
      "\n",
      "          Name\\n(정책명) Action\\n(허용/차단) Group OBJ Name Application OBJ Name  \\\n",
      "52    auto_ruleId_140           ALLOW            NaN                  ANY   \n",
      "885           정책번호#17           ALLOW            NaN                  ANY   \n",
      "893           정책번호#18           ALLOW            NaN                  ANY   \n",
      "1561          정책번호#38           ALLOW            NaN                  ANY   \n",
      "1632  auto_ruleId_111           ALLOW            NaN                  ANY   \n",
      "1694  auto_ruleId_127           ALLOW            NaN                  ANY   \n",
      "1695  auto_ruleId_127           ALLOW            NaN                  ANY   \n",
      "1696  auto_ruleId_127           ALLOW            NaN                  ANY   \n",
      "1697          정책번호#58           ALLOW            NaN                  ANY   \n",
      "1698          정책번호#58           ALLOW            NaN                  ANY   \n",
      "1699          정책번호#58           ALLOW            NaN                  ANY   \n",
      "1700          정책번호#58           ALLOW            NaN                  ANY   \n",
      "1986  auto_ruleId_147           ALLOW            NaN                  ANY   \n",
      "1991          정책번호#91           ALLOW            NaN                  ANY   \n",
      "\n",
      "     ap-Protocol Group OBJ Name.1 Service OBJ Name\\n(목적지포트명) Protocol  \\\n",
      "52           NaN             worm                        SSH      TCP   \n",
      "885          NaN        보안관제허용서비스                        SSH      TCP   \n",
      "893          NaN        보안관제허용서비스                        SSH      TCP   \n",
      "1561         NaN        보안관제허용서비스                        SSH      TCP   \n",
      "1632         NaN            BASIC                        SSH      TCP   \n",
      "1694         NaN            Ibond                        SSH      TCP   \n",
      "1695         NaN            Ibond                        SSH      TCP   \n",
      "1696         NaN            Ibond                        SSH      TCP   \n",
      "1697         NaN            Ibond                        SSH      TCP   \n",
      "1698         NaN            Ibond                        SSH      TCP   \n",
      "1699         NaN            Ibond                        SSH      TCP   \n",
      "1700         NaN            Ibond                        SSH      TCP   \n",
      "1986         NaN            Ibond                        SSH      TCP   \n",
      "1991         NaN            Ibond                        SSH      TCP   \n",
      "\n",
      "     Service Port\\n(포트번호)  \n",
      "52                     22  \n",
      "885                    22  \n",
      "893                    22  \n",
      "1561                   22  \n",
      "1632                   22  \n",
      "1694                   22  \n",
      "1695                   22  \n",
      "1696                   22  \n",
      "1697                   22  \n",
      "1698                   22  \n",
      "1699                   22  \n",
      "1700                   22  \n",
      "1986                   22  \n",
      "1991                   22  \n"
     ]
    }
   ],
   "source": [
    "print(ssh)"
   ]
  },
  {
   "cell_type": "code",
   "execution_count": 36,
   "id": "968b86cc-ed02-4ae3-b8c5-1df556ec57a7",
   "metadata": {},
   "outputs": [
    {
     "name": "stdout",
     "output_type": "stream",
     "text": [
      "        Type  Seq\\n(순번) Enable\\n(사용여부) Two-way\\n(양방향)  ID\\n(정책ID) Name\\n(정책명)  \\\n",
      "1735  Normal       84.0              Y              N        64.0     정책번호#62   \n",
      "1782  Normal       86.0              Y              N        68.0     정책번호#66   \n",
      "\n",
      "     Action\\n(허용/차단) Group OBJ Name Application OBJ Name ap-Protocol  \\\n",
      "1735           ALLOW            NaN                  ANY         NaN   \n",
      "1782           ALLOW            NaN                  ANY         NaN   \n",
      "\n",
      "     Group OBJ Name.1 Service OBJ Name\\n(목적지포트명) Protocol Service Port\\n(포트번호)  \n",
      "1735            Ibond                     TELNET      TCP                   23  \n",
      "1782            Ibond                     TELNET      TCP                   23  \n"
     ]
    }
   ],
   "source": [
    "print(telnet)"
   ]
  },
  {
   "cell_type": "code",
   "execution_count": 37,
   "id": "4da36111-92e8-4819-a60e-bbbbb4809784",
   "metadata": {},
   "outputs": [
    {
     "name": "stdout",
     "output_type": "stream",
     "text": [
      "Empty DataFrame\n",
      "Columns: [Type, Seq\n",
      "(순번), Enable\n",
      "(사용여부), Two-way\n",
      "(양방향), ID\n",
      "(정책ID), Name\n",
      "(정책명), Action\n",
      "(허용/차단), Group OBJ Name, Application OBJ Name, ap-Protocol, Group OBJ Name.1, Service OBJ Name\n",
      "(목적지포트명), Protocol, Service Port\n",
      "(포트번호)]\n",
      "Index: []\n"
     ]
    }
   ],
   "source": [
    "print(rlogin)"
   ]
  },
  {
   "cell_type": "code",
   "execution_count": 38,
   "id": "a01646e7-124b-45fb-a395-e6edcb6b1a1b",
   "metadata": {},
   "outputs": [
    {
     "name": "stdout",
     "output_type": "stream",
     "text": [
      "Empty DataFrame\n",
      "Columns: [Type, Seq\n",
      "(순번), Enable\n",
      "(사용여부), Two-way\n",
      "(양방향), ID\n",
      "(정책ID), Name\n",
      "(정책명), Action\n",
      "(허용/차단), Group OBJ Name, Application OBJ Name, ap-Protocol, Group OBJ Name.1, Service OBJ Name\n",
      "(목적지포트명), Protocol, Service Port\n",
      "(포트번호)]\n",
      "Index: []\n"
     ]
    }
   ],
   "source": [
    "print(rsh)"
   ]
  },
  {
   "cell_type": "code",
   "execution_count": 39,
   "id": "8ba16cf3-6b43-4150-9940-07203b50c265",
   "metadata": {},
   "outputs": [
    {
     "name": "stdout",
     "output_type": "stream",
     "text": [
      "Empty DataFrame\n",
      "Columns: [Type, Seq\n",
      "(순번), Enable\n",
      "(사용여부), Two-way\n",
      "(양방향), ID\n",
      "(정책ID), Name\n",
      "(정책명), Action\n",
      "(허용/차단), Group OBJ Name, Application OBJ Name, ap-Protocol, Group OBJ Name.1, Service OBJ Name\n",
      "(목적지포트명), Protocol, Service Port\n",
      "(포트번호)]\n",
      "Index: []\n"
     ]
    }
   ],
   "source": [
    "print(rcp)"
   ]
  },
  {
   "cell_type": "code",
   "execution_count": 40,
   "id": "19771046-bef0-427b-9074-5d50a559ad27",
   "metadata": {},
   "outputs": [
    {
     "name": "stdout",
     "output_type": "stream",
     "text": [
      "Empty DataFrame\n",
      "Columns: [Type, Seq\n",
      "(순번), Enable\n",
      "(사용여부), Two-way\n",
      "(양방향), ID\n",
      "(정책ID), Name\n",
      "(정책명), Action\n",
      "(허용/차단), Group OBJ Name, Application OBJ Name, ap-Protocol, Group OBJ Name.1, Service OBJ Name\n",
      "(목적지포트명), Protocol, Service Port\n",
      "(포트번호)]\n",
      "Index: []\n"
     ]
    }
   ],
   "source": [
    "print(rdp)"
   ]
  },
  {
   "cell_type": "code",
   "execution_count": 41,
   "id": "a4f35496-a33e-4cd4-83c5-59549686f94e",
   "metadata": {},
   "outputs": [
    {
     "name": "stdout",
     "output_type": "stream",
     "text": [
      "Empty DataFrame\n",
      "Columns: [Type, Seq\n",
      "(순번), Enable\n",
      "(사용여부), Two-way\n",
      "(양방향), ID\n",
      "(정책ID), Name\n",
      "(정책명), Action\n",
      "(허용/차단), Group OBJ Name, Application OBJ Name, ap-Protocol, Group OBJ Name.1, Service OBJ Name\n",
      "(목적지포트명), Protocol, Service Port\n",
      "(포트번호)]\n",
      "Index: []\n"
     ]
    }
   ],
   "source": [
    "print(radmin)"
   ]
  },
  {
   "cell_type": "code",
   "execution_count": 42,
   "id": "d9731d75-ba5b-4b4c-bd52-7d466dd61a30",
   "metadata": {},
   "outputs": [
    {
     "name": "stdout",
     "output_type": "stream",
     "text": [
      "Empty DataFrame\n",
      "Columns: [Type, Seq\n",
      "(순번), Enable\n",
      "(사용여부), Two-way\n",
      "(양방향), ID\n",
      "(정책ID), Name\n",
      "(정책명), Action\n",
      "(허용/차단), Group OBJ Name, Application OBJ Name, ap-Protocol, Group OBJ Name.1, Service OBJ Name\n",
      "(목적지포트명), Protocol, Service Port\n",
      "(포트번호)]\n",
      "Index: []\n"
     ]
    }
   ],
   "source": [
    "print(vnc)"
   ]
  },
  {
   "cell_type": "code",
   "execution_count": 43,
   "id": "d871d351-9075-4835-90ea-ba2372fd5dee",
   "metadata": {},
   "outputs": [
    {
     "name": "stdout",
     "output_type": "stream",
     "text": [
      "        Type  Seq\\n(순번) Enable\\n(사용여부) Two-way\\n(양방향)  ID\\n(정책ID) Name\\n(정책명)  \\\n",
      "2511  Normal      117.0              N              N        98.0     정책번호#96   \n",
      "2512  Normal      117.0              N              N        98.0     정책번호#96   \n",
      "2513  Normal      117.0              N              N        98.0     정책번호#96   \n",
      "\n",
      "     Action\\n(허용/차단)         Group OBJ Name Application OBJ Name  \\\n",
      "2511            DENY  KSCFC-DENY-APP-ADMIN2  teamviewer-outbound   \n",
      "2512            DENY  KSCFC-DENY-APP-ADMIN2   teamviewer-inbound   \n",
      "2513            DENY  KSCFC-DENY-APP-ADMIN2      teamviewer-base   \n",
      "\n",
      "          ap-Protocol Group OBJ Name.1 Service OBJ Name\\n(목적지포트명) Protocol  \\\n",
      "2511     TCP 443,5938            Ibond                        ANY      TCP   \n",
      "2512         TCP 5938            Ibond                        ANY      TCP   \n",
      "2513  TCP 80,443,5938            Ibond                        ANY      TCP   \n",
      "\n",
      "     Service Port\\n(포트번호)  \n",
      "2511                   80  \n",
      "2512                   80  \n",
      "2513                   80  \n"
     ]
    }
   ],
   "source": [
    "print(teamviewer)"
   ]
  },
  {
   "cell_type": "code",
   "execution_count": 44,
   "id": "0659369e-669a-4a64-838f-27d6314779f1",
   "metadata": {},
   "outputs": [
    {
     "name": "stdout",
     "output_type": "stream",
     "text": [
      "Empty DataFrame\n",
      "Columns: [Type, Seq\n",
      "(순번), Enable\n",
      "(사용여부), Two-way\n",
      "(양방향), ID\n",
      "(정책ID), Name\n",
      "(정책명), Action\n",
      "(허용/차단), Group OBJ Name, Application OBJ Name, ap-Protocol, Group OBJ Name.1, Service OBJ Name\n",
      "(목적지포트명), Protocol, Service Port\n",
      "(포트번호)]\n",
      "Index: []\n"
     ]
    }
   ],
   "source": [
    "print(gotomypc)"
   ]
  },
  {
   "cell_type": "code",
   "execution_count": 45,
   "id": "22d35688-6d46-4e29-a736-6e51bfbb4bd3",
   "metadata": {},
   "outputs": [
    {
     "name": "stdout",
     "output_type": "stream",
     "text": [
      "        Type  Seq\\n(순번) Enable\\n(사용여부) Two-way\\n(양방향)  ID\\n(정책ID)  \\\n",
      "14    Normal        4.0              Y              N       156.0   \n",
      "15    Normal        4.0              Y              N       156.0   \n",
      "884   Normal       28.0              Y              Y        18.0   \n",
      "892   Normal       29.0              Y              Y        19.0   \n",
      "1569  Normal       52.0              Y              Y        42.0   \n",
      "1579  Normal       53.0              Y              N        43.0   \n",
      "\n",
      "          Name\\n(정책명) Action\\n(허용/차단) Group OBJ Name Application OBJ Name  \\\n",
      "14    auto_ruleId_156           ALLOW            NaN                  ANY   \n",
      "15    auto_ruleId_156           ALLOW            NaN                  ANY   \n",
      "884           정책번호#17           ALLOW            NaN                  ANY   \n",
      "892           정책번호#18           ALLOW            NaN                  ANY   \n",
      "1569          정책번호#40           ALLOW            NaN                  ANY   \n",
      "1579          정책번호#41           ALLOW            NaN                  ANY   \n",
      "\n",
      "     ap-Protocol Group OBJ Name.1 Service OBJ Name\\n(목적지포트명) Protocol  \\\n",
      "14           NaN             worm                       SNMP      UDP   \n",
      "15           NaN             worm                   SNMPTRAP      UDP   \n",
      "884          NaN        보안관제허용서비스                       SNMP      UDP   \n",
      "892          NaN        보안관제허용서비스                       SNMP      UDP   \n",
      "1569         NaN      ZENIUS_port                       SNMP      UDP   \n",
      "1579         NaN      ZENIUS_port                       SNMP      UDP   \n",
      "\n",
      "     Service Port\\n(포트번호)  \n",
      "14                    161  \n",
      "15                    162  \n",
      "884                   161  \n",
      "892                   161  \n",
      "1569                  161  \n",
      "1579                  161  \n"
     ]
    }
   ],
   "source": [
    "print(snmp)"
   ]
  },
  {
   "cell_type": "code",
   "execution_count": 46,
   "id": "11f1051e-5c1d-4334-8af9-22debbc072fb",
   "metadata": {},
   "outputs": [
    {
     "name": "stdout",
     "output_type": "stream",
     "text": [
      "Empty DataFrame\n",
      "Columns: [Type, Seq\n",
      "(순번), Enable\n",
      "(사용여부), Two-way\n",
      "(양방향), ID\n",
      "(정책ID), Name\n",
      "(정책명), Action\n",
      "(허용/차단), Group OBJ Name, Application OBJ Name, ap-Protocol, Group OBJ Name.1, Service OBJ Name\n",
      "(목적지포트명), Protocol, Service Port\n",
      "(포트번호)]\n",
      "Index: []\n"
     ]
    }
   ],
   "source": [
    "print(etc1)"
   ]
  },
  {
   "cell_type": "code",
   "execution_count": 47,
   "id": "3c491cf2-c0a8-49de-b080-2034f0a05f97",
   "metadata": {},
   "outputs": [
    {
     "name": "stdout",
     "output_type": "stream",
     "text": [
      "Empty DataFrame\n",
      "Columns: [Type, Seq\n",
      "(순번), Enable\n",
      "(사용여부), Two-way\n",
      "(양방향), ID\n",
      "(정책ID), Name\n",
      "(정책명), Action\n",
      "(허용/차단), Group OBJ Name, Application OBJ Name, ap-Protocol, Group OBJ Name.1, Service OBJ Name\n",
      "(목적지포트명), Protocol, Service Port\n",
      "(포트번호)]\n",
      "Index: []\n"
     ]
    }
   ],
   "source": [
    "print(etc2)"
   ]
  },
  {
   "cell_type": "code",
   "execution_count": 48,
   "id": "16834ee4-2c11-4164-8bdc-993ccdf2ce3d",
   "metadata": {},
   "outputs": [
    {
     "name": "stdout",
     "output_type": "stream",
     "text": [
      "Empty DataFrame\n",
      "Columns: [Type, Seq\n",
      "(순번), Enable\n",
      "(사용여부), Two-way\n",
      "(양방향), ID\n",
      "(정책ID), Name\n",
      "(정책명), Action\n",
      "(허용/차단), Group OBJ Name, Application OBJ Name, ap-Protocol, Group OBJ Name.1, Service OBJ Name\n",
      "(목적지포트명), Protocol, Service Port\n",
      "(포트번호)]\n",
      "Index: []\n"
     ]
    }
   ],
   "source": [
    "print(etc3)"
   ]
  },
  {
   "cell_type": "code",
   "execution_count": 49,
   "id": "f90d4d07-577a-4e79-98b7-1256460a1222",
   "metadata": {},
   "outputs": [
    {
     "name": "stdout",
     "output_type": "stream",
     "text": [
      "Empty DataFrame\n",
      "Columns: [Type, Seq\n",
      "(순번), Enable\n",
      "(사용여부), Two-way\n",
      "(양방향), ID\n",
      "(정책ID), Name\n",
      "(정책명), Action\n",
      "(허용/차단), Group OBJ Name, Application OBJ Name, ap-Protocol, Group OBJ Name.1, Service OBJ Name\n",
      "(목적지포트명), Protocol, Service Port\n",
      "(포트번호)]\n",
      "Index: []\n"
     ]
    }
   ],
   "source": [
    "print(etc4)"
   ]
  },
  {
   "cell_type": "code",
   "execution_count": 50,
   "id": "963e3f64-5bc6-4296-af78-d69639849384",
   "metadata": {},
   "outputs": [
    {
     "name": "stdout",
     "output_type": "stream",
     "text": [
      "Empty DataFrame\n",
      "Columns: [Type, Seq\n",
      "(순번), Enable\n",
      "(사용여부), Two-way\n",
      "(양방향), ID\n",
      "(정책ID), Name\n",
      "(정책명), Action\n",
      "(허용/차단), Group OBJ Name, Application OBJ Name, ap-Protocol, Group OBJ Name.1, Service OBJ Name\n",
      "(목적지포트명), Protocol, Service Port\n",
      "(포트번호)]\n",
      "Index: []\n"
     ]
    }
   ],
   "source": [
    "print(etc5)"
   ]
  },
  {
   "cell_type": "code",
   "execution_count": 51,
   "id": "b1f91e43-1c37-43a7-9f7c-68f39d50e427",
   "metadata": {},
   "outputs": [
    {
     "name": "stdout",
     "output_type": "stream",
     "text": [
      "Empty DataFrame\n",
      "Columns: [Type, Seq\n",
      "(순번), Enable\n",
      "(사용여부), Two-way\n",
      "(양방향), ID\n",
      "(정책ID), Name\n",
      "(정책명), Action\n",
      "(허용/차단), Group OBJ Name, Application OBJ Name, ap-Protocol, Group OBJ Name.1, Service OBJ Name\n",
      "(목적지포트명), Protocol, Service Port\n",
      "(포트번호)]\n",
      "Index: []\n"
     ]
    }
   ],
   "source": [
    "print(etc6)"
   ]
  },
  {
   "cell_type": "code",
   "execution_count": 53,
   "id": "887415ea-fdb2-4354-b5de-1d4ebad9e5ab",
   "metadata": {},
   "outputs": [
    {
     "name": "stdout",
     "output_type": "stream",
     "text": [
      "Empty DataFrame\n",
      "Columns: [Type, Seq\n",
      "(순번), Enable\n",
      "(사용여부), Two-way\n",
      "(양방향), ID\n",
      "(정책ID), Name\n",
      "(정책명), Action\n",
      "(허용/차단), Group OBJ Name, Application OBJ Name, ap-Protocol, Group OBJ Name.1, Service OBJ Name\n",
      "(목적지포트명), Protocol, Service Port\n",
      "(포트번호)]\n",
      "Index: []\n"
     ]
    }
   ],
   "source": [
    "print(etc7)"
   ]
  },
  {
   "cell_type": "code",
   "execution_count": 57,
   "id": "af937e12-5ccf-4e1a-a64e-8d25ac8e1b73",
   "metadata": {},
   "outputs": [],
   "source": [
    "etc8 = df[df.apply(lambda row: any(num in str(row) for num in ['7','9','11','13','19','79','512','517']) and 'talk' in str(row).lower(), axis=1)]"
   ]
  },
  {
   "cell_type": "code",
   "execution_count": 58,
   "id": "db05fa5c-d3b8-4e82-adb6-81ac395758ae",
   "metadata": {},
   "outputs": [
    {
     "name": "stdout",
     "output_type": "stream",
     "text": [
      "        Type  Seq\\n(순번) Enable\\n(사용여부) Two-way\\n(양방향)  ID\\n(정책ID) Name\\n(정책명)  \\\n",
      "2243  Normal      117.0              N              N        98.0     정책번호#96   \n",
      "2244  Normal      117.0              N              N        98.0     정책번호#96   \n",
      "2245  Normal      117.0              N              N        98.0     정책번호#96   \n",
      "2246  Normal      117.0              N              N        98.0     정책번호#96   \n",
      "2247  Normal      117.0              N              N        98.0     정책번호#96   \n",
      "2379  Normal      117.0              N              N        98.0     정책번호#96   \n",
      "2598  Normal      117.0              N              N        98.0     정책번호#96   \n",
      "2599  Normal      117.0              N              N        98.0     정책번호#96   \n",
      "2600  Normal      117.0              N              N        98.0     정책번호#96   \n",
      "2601  Normal      117.0              N              N        98.0     정책번호#96   \n",
      "2643  Normal      117.0              N              N        98.0     정책번호#96   \n",
      "2775  Normal      117.0              N              N        98.0     정책번호#96   \n",
      "2776  Normal      117.0              N              N        98.0     정책번호#96   \n",
      "3059  Normal      117.0              N              N        98.0     정책번호#96   \n",
      "3060  Normal      117.0              N              N        98.0     정책번호#96   \n",
      "3061  Normal      117.0              N              N        98.0     정책번호#96   \n",
      "\n",
      "     Action\\n(허용/차단)         Group OBJ Name           Application OBJ Name  \\\n",
      "2243            DENY  KSCFC-DENY-APP-ADMIN2                  DingTalk-base   \n",
      "2244            DENY  KSCFC-DENY-APP-ADMIN2  DingTalk-message-chatting-out   \n",
      "2245            DENY  KSCFC-DENY-APP-ADMIN2           DingTalk-file-upload   \n",
      "2246            DENY  KSCFC-DENY-APP-ADMIN2         DingTalk-file-download   \n",
      "2247            DENY  KSCFC-DENY-APP-ADMIN2                 DingTalk-audio   \n",
      "2379            DENY  KSCFC-DENY-APP-ADMIN2                 kakaotalk-base   \n",
      "2598            DENY  KSCFC-DENY-APP-ADMIN2                   paltalk-base   \n",
      "2599            DENY  KSCFC-DENY-APP-ADMIN2   paltalk-message-chatting-out   \n",
      "2600            DENY  KSCFC-DENY-APP-ADMIN2    paltalk-message-chatting-in   \n",
      "2601            DENY  KSCFC-DENY-APP-ADMIN2                  paltalk-audio   \n",
      "2643            DENY  KSCFC-DENY-APP-ADMIN2                   talkon-audio   \n",
      "2775            DENY  KSCFC-DENY-APP-ADMIN2          kakaotalk-file-upload   \n",
      "2776            DENY  KSCFC-DENY-APP-ADMIN2        kakaotalk-file-download   \n",
      "3059            DENY  KSCFC-DENY-APP-ADMIN2                talkbox-message   \n",
      "3060            DENY  KSCFC-DENY-APP-ADMIN2                   talkbox-file   \n",
      "3061            DENY  KSCFC-DENY-APP-ADMIN2                  talkbox-audio   \n",
      "\n",
      "      ap-Protocol Group OBJ Name.1 Service OBJ Name\\n(목적지포트명) Protocol  \\\n",
      "2243      TCP 443            Ibond                        ANY      TCP   \n",
      "2244      TCP 443            Ibond                        ANY      TCP   \n",
      "2245      TCP 443            Ibond                        ANY      TCP   \n",
      "2246      TCP 443            Ibond                        ANY      TCP   \n",
      "2247      TCP 443            Ibond                        ANY      TCP   \n",
      "2379        TCP *            Ibond                        ANY      TCP   \n",
      "2598        TCP *            Ibond                        ANY      TCP   \n",
      "2599        TCP *            Ibond                        ANY      TCP   \n",
      "2600        TCP *            Ibond                        ANY      TCP   \n",
      "2601        TCP *            Ibond                        ANY      TCP   \n",
      "2643  TCP */UDP *            Ibond                        ANY      TCP   \n",
      "2775        TCP *            Ibond                        ANY      TCP   \n",
      "2776        TCP *            Ibond                        ANY      TCP   \n",
      "3059        TCP *            Ibond                        ANY      TCP   \n",
      "3060        TCP *            Ibond                        ANY      TCP   \n",
      "3061        TCP *            Ibond                        ANY      TCP   \n",
      "\n",
      "     Service Port\\n(포트번호)  \n",
      "2243                   80  \n",
      "2244                   80  \n",
      "2245                   80  \n",
      "2246                   80  \n",
      "2247                   80  \n",
      "2379                   80  \n",
      "2598                   80  \n",
      "2599                   80  \n",
      "2600                   80  \n",
      "2601                   80  \n",
      "2643                   80  \n",
      "2775                   80  \n",
      "2776                   80  \n",
      "3059                   80  \n",
      "3060                   80  \n",
      "3061                   80  \n"
     ]
    }
   ],
   "source": [
    "print(etc8)"
   ]
  },
  {
   "cell_type": "code",
   "execution_count": null,
   "id": "d8216c18-ecf6-4f97-b4a1-aa7e45699465",
   "metadata": {},
   "outputs": [],
   "source": []
  }
 ],
 "metadata": {
  "kernelspec": {
   "display_name": "Python 3 (ipykernel)",
   "language": "python",
   "name": "python3"
  },
  "language_info": {
   "codemirror_mode": {
    "name": "ipython",
    "version": 3
   },
   "file_extension": ".py",
   "mimetype": "text/x-python",
   "name": "python",
   "nbconvert_exporter": "python",
   "pygments_lexer": "ipython3",
   "version": "3.12.3"
  }
 },
 "nbformat": 4,
 "nbformat_minor": 5
}
